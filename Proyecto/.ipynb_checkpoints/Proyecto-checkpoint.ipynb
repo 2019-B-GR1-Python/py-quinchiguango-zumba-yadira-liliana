{
 "cells": [
  {
   "cell_type": "markdown",
   "metadata": {},
   "source": [
    "# Proyecto I Bimestre\n",
    "\n",
    "## Homicidios y asesinatos - Ministerio del Interior\n",
    "\n",
    "*Contiene información referente a los levantamientos de cadaver que han sido determinados como homicidios y asesinatos.*\n",
    "\n",
    "### Objetivos\n",
    "+ Realizar el análisis de el dataset de homicidios y asesinatos.\n",
    "+ Graficar los resultados obtenidos.\n",
    "\n",
    "### Desarrollo\n",
    "\n",
    "#### Fuente\n",
    "Oficina de Análisis de Información del delito del Ministerio del Interior\n",
    "\n",
    "Se puede obtener en el siguiente enlace: http://catalogo.datosabiertos.gob.ec/en/dataset/homicidios-y-asesinatos\n",
    "\n",
    "\n",
    "#### Análisis\n",
    "+ Se inicia importando las librerias que se muestran a continuacion:"
   ]
  },
  {
   "cell_type": "code",
   "execution_count": 73,
   "metadata": {},
   "outputs": [],
   "source": [
    "import pandas as pd\n",
    "import matplotlib.pyplot as plt"
   ]
  },
  {
   "cell_type": "markdown",
   "metadata": {},
   "source": [
    "+ Utilizamos pd.read_csv para leer los datos."
   ]
  },
  {
   "cell_type": "code",
   "execution_count": 3,
   "metadata": {},
   "outputs": [],
   "source": [
    "path = \"C://Users//yadir//Documents//GitHub//py-quinchiguango-zumba-yadira-liliana//Proyecto//dataset.csv\"\n",
    "df= pd.read_csv(path, encoding = 'unicode_escape',sep = \";\")"
   ]
  },
  {
   "cell_type": "markdown",
   "metadata": {},
   "source": [
    "##### Por tipo de muerte\n",
    "+ Visualizamos el grafico de el numero de muertes por el tipo de estas. La cantidad de Asesinatos es mucho mayor a las demas, incluso que los homicidios."
   ]
  },
  {
   "cell_type": "code",
   "execution_count": 85,
   "metadata": {},
   "outputs": [
    {
     "data": {
      "image/png": "[encoded data removed]",
      "text/plain": [
       "<Figure size 432x216 with 1 Axes>"
      ]
     },
     "metadata": {
      "needs_background": "light"
     },
     "output_type": "display_data"
    }
   ],
   "source": [
    "plt.figure(figsize=(6,3))\n",
    "plt.title('Tipo de Muerte')\n",
    "df.TipoMuerte.value_counts().sort_values().plot(kind='barh')\n",
    "plt.show()"
   ]
  },
  {
   "cell_type": "markdown",
   "metadata": {},
   "source": [
    "##### Tipo de Muerte por Genero\n",
    "+ Revisamos la información cruzada del tipo de muerte por genero."
   ]
  },
  {
   "cell_type": "code",
   "execution_count": 37,
   "metadata": {},
   "outputs": [
    {
     "data": {
      "text/html": [
       "<div>\n",
       "<style scoped>\n",
       "    .dataframe tbody tr th:only-of-type {\n",
       "        vertical-align: middle;\n",
       "    }\n",
       "\n",
       "    .dataframe tbody tr th {\n",
       "        vertical-align: top;\n",
       "    }\n",
       "\n",
       "    .dataframe thead th {\n",
       "        text-align: right;\n",
       "    }\n",
       "</style>\n",
       "<table border=\"1\" class=\"dataframe\">\n",
       "  <thead>\n",
       "    <tr style=\"text-align: right;\">\n",
       "      <th>Genero</th>\n",
       "      <th>FEMENINO</th>\n",
       "      <th>MASCULINO</th>\n",
       "    </tr>\n",
       "    <tr>\n",
       "      <th>TipoMuerte</th>\n",
       "      <th></th>\n",
       "      <th></th>\n",
       "    </tr>\n",
       "  </thead>\n",
       "  <tbody>\n",
       "    <tr>\n",
       "      <td>Asesinatos</td>\n",
       "      <td>88</td>\n",
       "      <td>752</td>\n",
       "    </tr>\n",
       "    <tr>\n",
       "      <td>Femicidios</td>\n",
       "      <td>32</td>\n",
       "      <td>0</td>\n",
       "    </tr>\n",
       "    <tr>\n",
       "      <td>Homicidios</td>\n",
       "      <td>65</td>\n",
       "      <td>342</td>\n",
       "    </tr>\n",
       "    <tr>\n",
       "      <td>Sicariatos</td>\n",
       "      <td>1</td>\n",
       "      <td>29</td>\n",
       "    </tr>\n",
       "  </tbody>\n",
       "</table>\n",
       "</div>"
      ],
      "text/plain": [
       "Genero      FEMENINO  MASCULINO\n",
       "TipoMuerte                     \n",
       "Asesinatos        88        752\n",
       "Femicidios        32          0\n",
       "Homicidios        65        342\n",
       "Sicariatos         1         29"
      ]
     },
     "execution_count": 37,
     "metadata": {},
     "output_type": "execute_result"
    }
   ],
   "source": [
    "pd.crosstab(df.TipoMuerte, df.Genero)"
   ]
  },
  {
   "cell_type": "markdown",
   "metadata": {},
   "source": [
    "Podemos graficar los homicidios por genero, observamos que existe un numero mucho mayor de homicidios hacia en genero masculino."
   ]
  },
  {
   "cell_type": "code",
   "execution_count": 95,
   "metadata": {},
   "outputs": [
    {
     "data": {
      "image/png": "[encoded data removed]",
      "text/plain": [
       "<Figure size 432x216 with 1 Axes>"
      ]
     },
     "metadata": {
      "needs_background": "light"
     },
     "output_type": "display_data"
    }
   ],
   "source": [
    "plt.figure(figsize=(6,3))\n",
    "plt.title('Homicidios por Genero')\n",
    "df.Genero[df.TipoMuerte==\"Homicidios\"].value_counts().sort_values().plot(kind='bar', color = 'DarkGreen')\n",
    "plt.show()"
   ]
  },
  {
   "cell_type": "markdown",
   "metadata": {},
   "source": [
    "De la misma manera graficamos los asesinatos por genero, notamos que tambien existe un numero mucho mayor de asesinatos hacia en genero masculino."
   ]
  },
  {
   "cell_type": "code",
   "execution_count": 96,
   "metadata": {},
   "outputs": [
    {
     "data": {
      "image/png": "[encoded data removed]",
      "text/plain": [
       "<Figure size 432x216 with 1 Axes>"
      ]
     },
     "metadata": {
      "needs_background": "light"
     },
     "output_type": "display_data"
    }
   ],
   "source": [
    "plt.figure(figsize=(6,3))\n",
    "plt.title('Asesinatos por Genero')\n",
    "df.Genero[df.TipoMuerte==\"Asesinatos\"].value_counts().sort_values().plot(kind='barh', color = 'Yellow')\n",
    "plt.show()"
   ]
  },
  {
   "cell_type": "markdown",
   "metadata": {},
   "source": [
    "##### Por provincias\n",
    "+ Las cinco provincias con mayor numero de muertes."
   ]
  },
  {
   "cell_type": "code",
   "execution_count": 86,
   "metadata": {},
   "outputs": [
    {
     "data": {
      "image/png": "[encoded data removed]",
      "text/plain": [
       "<Figure size 432x216 with 1 Axes>"
      ]
     },
     "metadata": {
      "needs_background": "light"
     },
     "output_type": "display_data"
    }
   ],
   "source": [
    "plt.figure(figsize=(6,3))\n",
    "plt.title('Provincias con mas muertes')\n",
    "df.Provincia.value_counts()[:5].sort_values().plot(kind='line')\n",
    "plt.show()"
   ]
  },
  {
   "cell_type": "markdown",
   "metadata": {},
   "source": [
    "+ De la misma manera podemos encontrar las ciudades con mayor numero de muertes."
   ]
  },
  {
   "cell_type": "code",
   "execution_count": 90,
   "metadata": {},
   "outputs": [
    {
     "data": {
      "image/png": "[encoded data removed]",
      "text/plain": [
       "<Figure size 432x216 with 1 Axes>"
      ]
     },
     "metadata": {
      "needs_background": "light"
     },
     "output_type": "display_data"
    }
   ],
   "source": [
    "plt.figure(figsize=(6,3))\n",
    "plt.title('Ciudades con mas muertes')\n",
    "df.Canton.value_counts()[:5].sort_values().plot(kind='bar')\n",
    "plt.show()"
   ]
  },
  {
   "cell_type": "markdown",
   "metadata": {},
   "source": [
    "##### Por estado civil\n",
    "+ En numero de muertos segun el estado civil y el genero."
   ]
  },
  {
   "cell_type": "code",
   "execution_count": 29,
   "metadata": {},
   "outputs": [
    {
     "data": {
      "text/html": [
       "<div>\n",
       "<style scoped>\n",
       "    .dataframe tbody tr th:only-of-type {\n",
       "        vertical-align: middle;\n",
       "    }\n",
       "\n",
       "    .dataframe tbody tr th {\n",
       "        vertical-align: top;\n",
       "    }\n",
       "\n",
       "    .dataframe thead th {\n",
       "        text-align: right;\n",
       "    }\n",
       "</style>\n",
       "<table border=\"1\" class=\"dataframe\">\n",
       "  <thead>\n",
       "    <tr style=\"text-align: right;\">\n",
       "      <th>EstadoCivil</th>\n",
       "      <th>CASADO</th>\n",
       "      <th>DIVORCIADO</th>\n",
       "      <th>NO DETERMINADO</th>\n",
       "      <th>SOLTERO</th>\n",
       "      <th>UNION LIBRE</th>\n",
       "      <th>VIUDO</th>\n",
       "    </tr>\n",
       "    <tr>\n",
       "      <th>Genero</th>\n",
       "      <th></th>\n",
       "      <th></th>\n",
       "      <th></th>\n",
       "      <th></th>\n",
       "      <th></th>\n",
       "      <th></th>\n",
       "    </tr>\n",
       "  </thead>\n",
       "  <tbody>\n",
       "    <tr>\n",
       "      <td>FEMENINO</td>\n",
       "      <td>37</td>\n",
       "      <td>9</td>\n",
       "      <td>2</td>\n",
       "      <td>126</td>\n",
       "      <td>5</td>\n",
       "      <td>7</td>\n",
       "    </tr>\n",
       "    <tr>\n",
       "      <td>MASCULINO</td>\n",
       "      <td>190</td>\n",
       "      <td>33</td>\n",
       "      <td>29</td>\n",
       "      <td>812</td>\n",
       "      <td>48</td>\n",
       "      <td>11</td>\n",
       "    </tr>\n",
       "  </tbody>\n",
       "</table>\n",
       "</div>"
      ],
      "text/plain": [
       "EstadoCivil  CASADO  DIVORCIADO  NO DETERMINADO  SOLTERO  UNION LIBRE  VIUDO\n",
       "Genero                                                                      \n",
       "FEMENINO         37           9               2      126            5      7\n",
       "MASCULINO       190          33              29      812           48     11"
      ]
     },
     "execution_count": 29,
     "metadata": {},
     "output_type": "execute_result"
    }
   ],
   "source": [
    "pd.crosstab(df.Genero, df.EstadoCivil)"
   ]
  },
  {
   "cell_type": "markdown",
   "metadata": {},
   "source": [
    "+ Se toma los Femicidios como tipo de muerte y cruzamos esta informacion con el estado civil de las victimas."
   ]
  },
  {
   "cell_type": "code",
   "execution_count": 33,
   "metadata": {},
   "outputs": [
    {
     "data": {
      "text/html": [
       "<div>\n",
       "<style scoped>\n",
       "    .dataframe tbody tr th:only-of-type {\n",
       "        vertical-align: middle;\n",
       "    }\n",
       "\n",
       "    .dataframe tbody tr th {\n",
       "        vertical-align: top;\n",
       "    }\n",
       "\n",
       "    .dataframe thead th {\n",
       "        text-align: right;\n",
       "    }\n",
       "</style>\n",
       "<table border=\"1\" class=\"dataframe\">\n",
       "  <thead>\n",
       "    <tr style=\"text-align: right;\">\n",
       "      <th>EstadoCivil</th>\n",
       "      <th>CASADO</th>\n",
       "      <th>NO DETERMINADO</th>\n",
       "      <th>SOLTERO</th>\n",
       "      <th>VIUDO</th>\n",
       "    </tr>\n",
       "    <tr>\n",
       "      <th>TipoMuerte</th>\n",
       "      <th></th>\n",
       "      <th></th>\n",
       "      <th></th>\n",
       "      <th></th>\n",
       "    </tr>\n",
       "  </thead>\n",
       "  <tbody>\n",
       "    <tr>\n",
       "      <td>Femicidios</td>\n",
       "      <td>9</td>\n",
       "      <td>1</td>\n",
       "      <td>21</td>\n",
       "      <td>1</td>\n",
       "    </tr>\n",
       "  </tbody>\n",
       "</table>\n",
       "</div>"
      ],
      "text/plain": [
       "EstadoCivil  CASADO  NO DETERMINADO  SOLTERO  VIUDO\n",
       "TipoMuerte                                         \n",
       "Femicidios        9               1       21      1"
      ]
     },
     "execution_count": 33,
     "metadata": {},
     "output_type": "execute_result"
    }
   ],
   "source": [
    "pd.crosstab(df.TipoMuerte.where(df.TipoMuerte==\"Femicidios\"), df.EstadoCivil)"
   ]
  },
  {
   "cell_type": "markdown",
   "metadata": {},
   "source": [
    "##### Por edad\n",
    "+ Analizamos por rangos de edades, se obtiene que el 57.5% de las victimas estan entre 20 y 40 años."
   ]
  },
  {
   "cell_type": "code",
   "execution_count": 65,
   "metadata": {},
   "outputs": [
    {
     "data": {
      "image/png": "[encoded data removed]",
      "text/plain": [
       "<Figure size 432x288 with 1 Axes>"
      ]
     },
     "metadata": {},
     "output_type": "display_data"
    }
   ],
   "source": [
    "edad = df['Edad'].dropna()\n",
    "rango_edades = [int(e) for e in edad]\n",
    "menores20 = 0 \n",
    "menores40 = 0 \n",
    "menores60 = 0\n",
    "mayores60 = 0\n",
    "for i in rango_edades:\n",
    "    if(i <= 20):\n",
    "        menores20 = menores20 + 1\n",
    "    elif(i <= 40 and i > 20):\n",
    "        menores40 = menores40 + 1\n",
    "    elif(i <= 60 and i > 40):\n",
    "        menores60 = menores60 + 1\n",
    "    else:\n",
    "        mayores60 = mayores60 + 1\n",
    "\n",
    "edades = [menores20, menores40, menores60, mayores60]\n",
    "edades_etiqueta = ['Menores a 20 años', 'Entre 20 y 40 años', 'Entre 40 y 60 años', 'Mayores a 60 años']\n",
    "                   \n",
    "plt.title(\"Muertes por edad\")\n",
    "plt.pie(edades, labels=edades_etiqueta, autopct='%1.1f%%')\n",
    "plt.axis('equal')\n",
    "plt.show()"
   ]
  },
  {
   "cell_type": "markdown",
   "metadata": {},
   "source": [
    "+ Ahora se analiza por edades pero para Asesinatos."
   ]
  },
  {
   "cell_type": "code",
   "execution_count": 68,
   "metadata": {},
   "outputs": [
    {
     "data": {
      "image/png": "[encoded data removed]",
      "text/plain": [
       "<Figure size 432x288 with 1 Axes>"
      ]
     },
     "metadata": {},
     "output_type": "display_data"
    }
   ],
   "source": [
    "edad = df.Edad[df.TipoMuerte==\"Asesinatos\"].dropna()\n",
    "rango_edades = [int(e) for e in edad]\n",
    "menores20 = 0 \n",
    "menores40 = 0 \n",
    "menores60 = 0\n",
    "mayores60 = 0\n",
    "\n",
    "for i in rango_edades:\n",
    "    if(i <= 20):\n",
    "        menores20 = menores20 + 1\n",
    "    elif(i <= 40 and i > 20):\n",
    "        menores40 = menores40 + 1\n",
    "    elif(i <= 60 and i > 40):\n",
    "        menores60 = menores60 + 1\n",
    "    else:\n",
    "        mayores60 = mayores60 + 1\n",
    "\n",
    "edades = [menores20, menores40, menores60, mayores60]\n",
    "edades_etiqueta = ['Menores a 20 años', 'Entre 20 y 40 años', 'Entre 40 y 60 años', 'Mayores a 60 años']\n",
    "                   \n",
    "plt.title(\"Muertes por edad\")\n",
    "plt.pie(edades, labels=edades_etiqueta, autopct='%1.1f%%')\n",
    "plt.axis('equal')\n",
    "plt.show()"
   ]
  },
  {
   "cell_type": "markdown",
   "metadata": {},
   "source": [
    "+ Por edades en la provincia de Pichincha"
   ]
  },
  {
   "cell_type": "code",
   "execution_count": 69,
   "metadata": {},
   "outputs": [
    {
     "data": {
      "image/png": "[encoded data removed]",
      "text/plain": [
       "<Figure size 432x288 with 1 Axes>"
      ]
     },
     "metadata": {},
     "output_type": "display_data"
    }
   ],
   "source": [
    "edad = df.Edad[df.Provincia==\"PICHINCHA\"].dropna()\n",
    "rango_edades = [int(e) for e in edad]\n",
    "menores20 = 0 \n",
    "menores40 = 0 \n",
    "menores60 = 0\n",
    "mayores60 = 0\n",
    "\n",
    "for i in rango_edades:\n",
    "    if(i <= 20):\n",
    "        menores20 = menores20 + 1\n",
    "    elif(i <= 40 and i > 20):\n",
    "        menores40 = menores40 + 1\n",
    "    elif(i <= 60 and i > 40):\n",
    "        menores60 = menores60 + 1\n",
    "    else:\n",
    "        mayores60 = mayores60 + 1\n",
    "\n",
    "edades = [menores20, menores40, menores60, mayores60]\n",
    "edades_etiqueta = ['Menores a 20 años', 'Entre 20 y 40 años', 'Entre 40 y 60 años', 'Mayores a 60 años']\n",
    "                   \n",
    "plt.title(\"Muertes por edad\")\n",
    "plt.pie(edades, labels=edades_etiqueta, autopct='%1.1f%%')\n",
    "plt.axis('equal')\n",
    "plt.show()"
   ]
  },
  {
   "cell_type": "markdown",
   "metadata": {},
   "source": [
    "### Conclusión\n",
    "El análisis del dataset de homicidios y asesinatos, asi como la graficación de resultados se lo realizó rapidamente gracias a las librerias de pandas que nos brindan la facilidad de realizar calculos matematicos con pocas lineas de codigo y se una manera sencilla."
   ]
  }
 ],
 "metadata": {
  "kernelspec": {
   "display_name": "Python 3",
   "language": "python",
   "name": "python3"
  },
  "language_info": {
   "codemirror_mode": {
    "name": "ipython",
    "version": 3
   },
   "file_extension": ".py",
   "mimetype": "text/x-python",
   "name": "python",
   "nbconvert_exporter": "python",
   "pygments_lexer": "ipython3",
   "version": "3.7.4"
  }
 },
 "nbformat": 4,
 "nbformat_minor": 2
}
