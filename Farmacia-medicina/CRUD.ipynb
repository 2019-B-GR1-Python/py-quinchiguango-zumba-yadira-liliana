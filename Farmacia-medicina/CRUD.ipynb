{
 "cells": [
  {
   "cell_type": "code",
   "execution_count": 13,
   "metadata": {},
   "outputs": [
    {
     "name": "stdout",
     "output_type": "stream",
     "text": [
      "1,2,NI, 890900841,5,,2011,10,12,10,505000,42650\n",
      "\n",
      "M123Medicamento1\n"
     ]
    }
   ],
   "source": [
    "try:\n",
    "    path=\"./medicamentos.txt\"\n",
    "    archivo_abierto = open(path)\n",
    "    lineas= archivo_abierto.readlines()\n",
    "    for linea in lineas:\n",
    "        print(linea)\n",
    "    archivo_abierto.close\n",
    "except Exception as error:\n",
    "    print(\"error\")"
   ]
  },
  {
   "cell_type": "code",
   "execution_count": 25,
   "metadata": {},
   "outputs": [],
   "source": [
    "#ingresar_medicamento(\"M123\",\"Medicamento1\",123)\n",
    "\n",
    "def ingresar_medicamento(codigo,nombre,precio):\n",
    "    try:\n",
    "        path = \"./medicamentos.txt\"\n",
    "        archivo_escritura_abierto = open(path,mode=\"a\") \n",
    "        archivo_escritura_abierto.writelines([f\"{codigo}  , {nombre}  , {precio}\\n\"])\n",
    "        archivo_escritura_abierto.close()\n",
    "        print(\"Ingreso exitoso\")\n",
    "    except Exception as error:\n",
    "        print(\"Error\")"
   ]
  },
  {
   "cell_type": "code",
   "execution_count": 27,
   "metadata": {},
   "outputs": [
    {
     "name": "stdout",
     "output_type": "stream",
     "text": [
      "Ingreso exitoso\n"
     ]
    }
   ],
   "source": [
    "ingresar_medicamento(\"M234\",\"Medicamento2\",\"$234.00\")"
   ]
  },
  {
   "cell_type": "code",
   "execution_count": null,
   "metadata": {},
   "outputs": [],
   "source": [
    "def imprimir_medicamento(codigo,nombre,precio):\n",
    "    print(\"Informacion:\")\n",
    "    print(f\"Codigo: {codigo}\")\n",
    "    print(f\"Nombre: {nombre}\")\n",
    "    print(f\"Precio: {precio}\")"
   ]
  },
  {
   "cell_type": "code",
   "execution_count": null,
   "metadata": {},
   "outputs": [],
   "source": []
  },
  {
   "cell_type": "code",
   "execution_count": null,
   "metadata": {},
   "outputs": [],
   "source": []
  },
  {
   "cell_type": "code",
   "execution_count": null,
   "metadata": {},
   "outputs": [],
   "source": []
  },
  {
   "cell_type": "code",
   "execution_count": null,
   "metadata": {},
   "outputs": [],
   "source": []
  }
 ],
 "metadata": {
  "kernelspec": {
   "display_name": "Python 3",
   "language": "python",
   "name": "python3"
  },
  "language_info": {
   "codemirror_mode": {
    "name": "ipython",
    "version": 3
   },
   "file_extension": ".py",
   "mimetype": "text/x-python",
   "name": "python",
   "nbconvert_exporter": "python",
   "pygments_lexer": "ipython3",
   "version": "3.7.4"
  }
 },
 "nbformat": 4,
 "nbformat_minor": 2
}
