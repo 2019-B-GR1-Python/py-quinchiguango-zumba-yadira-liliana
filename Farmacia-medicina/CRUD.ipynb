{
 "cells": [
  {
   "cell_type": "code",
   "execution_count": 5,
   "metadata": {},
   "outputs": [
    {
     "name": "stdout",
     "output_type": "stream",
     "text": [
      "MENU\n",
      "  1. Listar medicamentos\n",
      "  2. Ingresar nuevo medicamento\n",
      "  3. Actualizar medicamento\n",
      "  4. Eliminar\n",
      "  0. Salir\n",
      "\n",
      "Elija una opcion: 1\n",
      "\n",
      "MEDICAMENTOS\n",
      "\n",
      "  M123  , Medicamento1  , $123.00\n",
      "\n",
      "  M234  , Medicamento2  , $234.00\n",
      "\n",
      "  M345  , Medicamento3  , $345.00\n",
      "\n",
      "  M456  , Medicamento4  , $456.00\n",
      "\n",
      "  M678  , Medicamento6  , $678\n",
      "\n",
      "  M789  , Medicamento7  , $789.00\n",
      "\n",
      "Elija una opcion: 2\n",
      "\n",
      "  Ingrese la informacion del medicamento a ingresar\n",
      "\n",
      "  Codigo: M567\n",
      "  Nombre: Medicamento5\n",
      "  Precio: $567.00\n",
      "\n",
      "* Ingreso exitoso *\n",
      "\n",
      "Elija una opcion: 1\n",
      "\n",
      "MEDICAMENTOS\n",
      "\n",
      "  M123  , Medicamento1  , $123.00\n",
      "\n",
      "  M234  , Medicamento2  , $234.00\n",
      "\n",
      "  M345  , Medicamento3  , $345.00\n",
      "\n",
      "  M456  , Medicamento4  , $456.00\n",
      "\n",
      "  M678  , Medicamento6  , $678\n",
      "\n",
      "  M789  , Medicamento7  , $789.00\n",
      "\n",
      "  M567  , Medicamento5  , $567.00\n",
      "\n",
      "Elija una opcion: 4\n",
      "\n",
      "  Ingrese el codigo a eliminar: M678\n",
      "\n",
      "* Eliminado: M678 *\n",
      "\n",
      "Elija una opcion: 1\n",
      "\n",
      "MEDICAMENTOS\n",
      "\n",
      "  M123  , Medicamento1  , $123.00\n",
      "\n",
      "  M234  , Medicamento2  , $234.00\n",
      "\n",
      "  M345  , Medicamento3  , $345.00\n",
      "\n",
      "  M456  , Medicamento4  , $456.00\n",
      "\n",
      "  M789  , Medicamento7  , $789.00\n",
      "\n",
      "  M567  , Medicamento5  , $567.00\n",
      "\n",
      "Elija una opcion: 3\n",
      "\n",
      "  Ingrese el codigo a modificar: M789\n",
      "  Ingrese el nuevo nombre: Medicamento6\n",
      "  Ingrese el nuevo precio: $678\n",
      "\n",
      "* Medicamento M789 modificado *\n",
      "\n",
      "Elija una opcion: 1\n",
      "\n",
      "MEDICAMENTOS\n",
      "\n",
      "  M123  , Medicamento1  , $123.00\n",
      "\n",
      "  M234  , Medicamento2  , $234.00\n",
      "\n",
      "  M345  , Medicamento3  , $345.00\n",
      "\n",
      "  M456  , Medicamento4  , $456.00\n",
      "\n",
      "  M789  , Medicamento6  , $678\n",
      "\n",
      "  M567  , Medicamento5  , $567.00\n",
      "\n",
      "Elija una opcion: 4\n",
      "\n",
      "  Ingrese el codigo a eliminar: M789\n",
      "\n",
      "* Eliminado: M789 *\n",
      "\n",
      "Elija una opcion: 1\n",
      "\n",
      "MEDICAMENTOS\n",
      "\n",
      "  M123  , Medicamento1  , $123.00\n",
      "\n",
      "  M234  , Medicamento2  , $234.00\n",
      "\n",
      "  M345  , Medicamento3  , $345.00\n",
      "\n",
      "  M456  , Medicamento4  , $456.00\n",
      "\n",
      "  M567  , Medicamento5  , $567.00\n",
      "\n",
      "Elija una opcion: 0\n"
     ]
    }
   ],
   "source": [
    "print(f\"MENU\\n\"\n",
    "      \"  1. Listar medicamentos\\n  2. Ingresar nuevo medicamento\\n  3. Actualizar medicamento\\n  4. Eliminar\\n  0. Salir\\n\")\n",
    "opcion = 1\n",
    "while opcion != 0:\n",
    "    opcion = input(\"Elija una opcion: \")\n",
    "    if (opcion == '1'):\n",
    "        leer_medicamentos()\n",
    "    if (opcion == '2'):\n",
    "        ingresar_medicamento()\n",
    "    if (opcion == '3'):\n",
    "        actualizar_medicamento()\n",
    "    if (opcion == '4'):\n",
    "        eliminar_medicamento()\n",
    "    if (opcion == '0'):\n",
    "        break"
   ]
  },
  {
   "cell_type": "code",
   "execution_count": 7,
   "metadata": {},
   "outputs": [],
   "source": [
    "def leer_medicamentos():\n",
    "    try:\n",
    "        path=\"./medicamentos.txt\"\n",
    "        archivo_abierto = open(path)\n",
    "        lineas= archivo_abierto.readlines()\n",
    "        print(\"\\nMEDICAMENTOS\\n\")\n",
    "        for linea in lineas:\n",
    "            print(f\"  {linea}\")\n",
    "        archivo_abierto.close\n",
    "    except Exception as error:\n",
    "        print(f\"Error en lectura: {error}\")"
   ]
  },
  {
   "cell_type": "code",
   "execution_count": 40,
   "metadata": {},
   "outputs": [
    {
     "name": "stdout",
     "output_type": "stream",
     "text": [
      "\n",
      "MEDICAMENTOS\n",
      "\n",
      "  M123  , Medicamento1  , $123.00\n",
      "\n",
      "  M234  , Medicamento2  , $234.00\n",
      "\n",
      "  M345  , Medicamento3  , $345.00\n",
      "\n",
      "  M456  , Medicamento4  , $456.00\n",
      "\n",
      "  M678  , Medicamento6  , $678.00\n",
      "\n"
     ]
    }
   ],
   "source": [
    "leer_medicamentos()"
   ]
  },
  {
   "cell_type": "code",
   "execution_count": 8,
   "metadata": {},
   "outputs": [],
   "source": [
    "def ingresar_medicamento():\n",
    "    print(\"\\n  Ingrese la informacion del medicamento a ingresar\\n\")\n",
    "    codigo = input(\"  Codigo: \")\n",
    "    nombre = input(\"  Nombre: \")\n",
    "    precio = input(\"  Precio: \")\n",
    "    try:\n",
    "        path = \"./medicamentos.txt\"\n",
    "        archivo_escritura_abierto = open(path,mode=\"a\") \n",
    "        archivo_escritura_abierto.writelines([f\"{codigo}  , {nombre}  , {precio}\\n\"])\n",
    "        archivo_escritura_abierto.close()\n",
    "        print(\"\\n  * Ingreso exitoso *\\n\")\n",
    "    except Exception as error:\n",
    "        print(f\"Error en ingreso: {error}\")"
   ]
  },
  {
   "cell_type": "code",
   "execution_count": 36,
   "metadata": {},
   "outputs": [
    {
     "name": "stdout",
     "output_type": "stream",
     "text": [
      "\n",
      "Ingrese la informacion del medicamento a ingresar\n",
      "\n",
      "Codigo: M678\n",
      "Nombre: Medicamento6\n",
      "Precio: $678.00\n",
      "Ingreso exitoso\n"
     ]
    }
   ],
   "source": [
    "ingresar_medicamento()"
   ]
  },
  {
   "cell_type": "code",
   "execution_count": 9,
   "metadata": {},
   "outputs": [],
   "source": [
    "def actualizar_medicamento():\n",
    "    codigo = input(\"\\n  Ingrese el codigo a modificar: \")\n",
    "    try:\n",
    "        path=\"./medicamentos.txt\"\n",
    "        archivo_abierto = open(path, mode=\"r+\")\n",
    "        lineas = archivo_abierto.readlines()\n",
    "        archivo_abierto.seek(0)\n",
    "        for linea in lineas:\n",
    "            if codigo in linea:\n",
    "                nombre = input(\"  Ingrese el nuevo nombre: \")\n",
    "                precio = input(\"  Ingrese el nuevo precio: \")\n",
    "                medicamento_modificado = f\"{codigo}  , {nombre}  , {precio}\\n\"\n",
    "                archivo_abierto.write(medicamento_modificado)\n",
    "                archivo_abierto.truncate()\n",
    "                print(f\"\\n  * Medicamento {codigo} modificado *\\n\")\n",
    "            else:\n",
    "                archivo_abierto.write(linea)\n",
    "                archivo_abierto.truncate()\n",
    "    except Exception as error:\n",
    "        print(f\"Error en actualizacion: {error}\")"
   ]
  },
  {
   "cell_type": "code",
   "execution_count": 37,
   "metadata": {},
   "outputs": [
    {
     "name": "stdout",
     "output_type": "stream",
     "text": [
      "Ingrese el codigo a modificar: M567\n"
     ]
    }
   ],
   "source": [
    "actualizar_medicamento()"
   ]
  },
  {
   "cell_type": "code",
   "execution_count": 4,
   "metadata": {},
   "outputs": [],
   "source": [
    "def eliminar_medicamento():\n",
    "    codigo = input(\"\\n  Ingrese el codigo a eliminar: \")\n",
    "    try:\n",
    "        path=\"./medicamentos.txt\"\n",
    "        archivo_abierto = open(path, mode=\"r+\")\n",
    "        lineas = archivo_abierto.readlines()\n",
    "        archivo_abierto.seek(0)\n",
    "        for linea in lineas:\n",
    "            if not codigo in linea:\n",
    "                archivo_abierto.write(linea)\n",
    "                archivo_abierto.truncate()\n",
    "        print(f\"\\n  * Eliminado: {codigo} *\\n\")\n",
    "    except Exception as error:\n",
    "        print(f\"Error en actualizacion: {error}\")"
   ]
  },
  {
   "cell_type": "code",
   "execution_count": 39,
   "metadata": {},
   "outputs": [
    {
     "name": "stdout",
     "output_type": "stream",
     "text": [
      "Ingrese el codigo a eliminar: M567\n",
      "Eliminado: M567\n"
     ]
    }
   ],
   "source": [
    "eliminar_medicamento()"
   ]
  },
  {
   "cell_type": "code",
   "execution_count": null,
   "metadata": {},
   "outputs": [],
   "source": []
  },
  {
   "cell_type": "code",
   "execution_count": null,
   "metadata": {},
   "outputs": [],
   "source": []
  },
  {
   "cell_type": "code",
   "execution_count": null,
   "metadata": {},
   "outputs": [],
   "source": []
  }
 ],
 "metadata": {
  "kernelspec": {
   "display_name": "Python 3",
   "language": "python",
   "name": "python3"
  },
  "language_info": {
   "codemirror_mode": {
    "name": "ipython",
    "version": 3
   },
   "file_extension": ".py",
   "mimetype": "text/x-python",
   "name": "python",
   "nbconvert_exporter": "python",
   "pygments_lexer": "ipython3",
   "version": "3.7.4"
  }
 },
 "nbformat": 4,
 "nbformat_minor": 2
}
