{
 "cells": [
  {
   "cell_type": "code",
   "execution_count": 1,
   "metadata": {},
   "outputs": [],
   "source": [
    "import numpy as np"
   ]
  },
  {
   "cell_type": "code",
   "execution_count": 61,
   "metadata": {},
   "outputs": [
    {
     "data": {
      "text/plain": [
       "array([0., 0., 0., 0., 0., 0., 0., 0., 0., 0.])"
      ]
     },
     "execution_count": 61,
     "metadata": {},
     "output_type": "execute_result"
    }
   ],
   "source": [
    "# Crear un vector de ceros de tamaño 10\n",
    "vector_ceros = np.zeros(10)\n",
    "vector_ceros"
   ]
  },
  {
   "cell_type": "code",
   "execution_count": 4,
   "metadata": {},
   "outputs": [
    {
     "data": {
      "text/plain": [
       "array([0., 0., 0., 0., 0., 1., 0., 0., 0., 0.])"
      ]
     },
     "execution_count": 4,
     "metadata": {},
     "output_type": "execute_result"
    }
   ],
   "source": [
    "# Crear un vector de ceros de tamaño 10 y el de la posicion 5 sea igual a 1\n",
    "vector_ceros = np.zeros(10)\n",
    "vector_ceros[5] = 1\n",
    "vector_ceros"
   ]
  },
  {
   "cell_type": "code",
   "execution_count": 8,
   "metadata": {},
   "outputs": [
    {
     "data": {
      "text/plain": [
       "array([49, 48, 47, 46, 45, 44, 43, 42, 41, 40, 39, 38, 37, 36, 35, 34, 33,\n",
       "       32, 31, 30, 29, 28, 27, 26, 25, 24, 23, 22, 21, 20, 19, 18, 17, 16,\n",
       "       15, 14, 13, 12, 11, 10,  9,  8,  7,  6,  5,  4,  3,  2,  1,  0])"
      ]
     },
     "execution_count": 8,
     "metadata": {},
     "output_type": "execute_result"
    }
   ],
   "source": [
    "# Cambiar el orden de un vector de 50 elementos, el de la posicion 1 es el de la 50 etc.\n",
    "vector_50 = np.arange(50)\n",
    "vector_50[::-1]"
   ]
  },
  {
   "cell_type": "code",
   "execution_count": 62,
   "metadata": {},
   "outputs": [
    {
     "data": {
      "text/plain": [
       "array([[0, 1, 2],\n",
       "       [3, 4, 5],\n",
       "       [6, 7, 8]])"
      ]
     },
     "execution_count": 62,
     "metadata": {},
     "output_type": "execute_result"
    }
   ],
   "source": [
    "# Crear una matriz de 3 x 3 con valores del cero al 8\n",
    "matriz = np.arange(0,9,1).reshape(3,3)\n",
    "matriz"
   ]
  },
  {
   "cell_type": "code",
   "execution_count": 63,
   "metadata": {},
   "outputs": [
    {
     "data": {
      "text/plain": [
       "(array([0, 1, 4], dtype=int64),)"
      ]
     },
     "execution_count": 63,
     "metadata": {},
     "output_type": "execute_result"
    }
   ],
   "source": [
    "# Encontrar los indices que no sean cero en un arreglo\n",
    "arreglo = [1,2,0,0,4,0]\n",
    "np_arreglo = np.array(arreglo)\n",
    "np.where(np_arreglo != 0)"
   ]
  },
  {
   "cell_type": "code",
   "execution_count": 64,
   "metadata": {},
   "outputs": [
    {
     "data": {
      "text/plain": [
       "array([[1., 0., 0.],\n",
       "       [0., 1., 0.],\n",
       "       [0., 0., 1.]])"
      ]
     },
     "execution_count": 64,
     "metadata": {},
     "output_type": "execute_result"
    }
   ],
   "source": [
    "# Crear una matriz de identidad 3 x 3\n",
    "matriz = np.eye(3)\n",
    "matriz"
   ]
  },
  {
   "cell_type": "code",
   "execution_count": 65,
   "metadata": {},
   "outputs": [
    {
     "data": {
      "text/plain": [
       "array([[[0.29455133, 0.96687478, 0.94393753],\n",
       "        [0.02351031, 0.8022842 , 0.76413454],\n",
       "        [0.41386859, 0.856485  , 0.48519025]],\n",
       "\n",
       "       [[0.83095392, 0.05954419, 0.12013129],\n",
       "        [0.46465355, 0.76352431, 0.84276251],\n",
       "        [0.07242014, 0.85520792, 0.75027634]],\n",
       "\n",
       "       [[0.21103644, 0.295141  , 0.26363892],\n",
       "        [0.34619601, 0.5986419 , 0.90922172],\n",
       "        [0.60622802, 0.12948262, 0.05667688]]])"
      ]
     },
     "execution_count": 65,
     "metadata": {},
     "output_type": "execute_result"
    }
   ],
   "source": [
    "# Crear una matriz 3 x 3 x 3 con valores randomicos\n",
    "arreglo_random = np.random.rand(3,3,3)\n",
    "arreglo_random"
   ]
  },
  {
   "cell_type": "code",
   "execution_count": 47,
   "metadata": {},
   "outputs": [
    {
     "name": "stdout",
     "output_type": "stream",
     "text": [
      "[[50.  50.5 51.  51.5 52.  52.5 53.  53.5 54.  54.5]\n",
      " [55.  55.5 56.  56.5 57.  57.5 58.  58.5 59.  59.5]\n",
      " [60.  60.5 61.  61.5 62.  62.5 63.  63.5 64.  64.5]\n",
      " [65.  65.5 66.  66.5 67.  67.5 68.  68.5 69.  69.5]\n",
      " [70.  70.5 71.  71.5 72.  72.5 73.  73.5 74.  74.5]\n",
      " [75.  75.5 76.  76.5 77.  77.5 78.  78.5 79.  79.5]\n",
      " [80.  80.5 81.  81.5 82.  82.5 83.  83.5 84.  84.5]\n",
      " [85.  85.5 86.  86.5 87.  87.5 88.  88.5 89.  89.5]\n",
      " [90.  90.5 91.  91.5 92.  92.5 93.  93.5 94.  94.5]\n",
      " [95.  95.5 96.  96.5 97.  97.5 98.  98.5 99.  99.5]]\n",
      "50.0\n",
      "99.5\n"
     ]
    }
   ],
   "source": [
    "# Crear una matriz 10 x 10 y encontrar el mayor y el menor\n",
    "matriz = np.arange(50, 100, 0.5).reshape(10,10)\n",
    "print(matriz)\n",
    "print(np.min(matriz)) \n",
    "print(np.max(matriz))"
   ]
  },
  {
   "cell_type": "code",
   "execution_count": null,
   "metadata": {},
   "outputs": [],
   "source": [
    "# Sacar los colores RGB unicos en una imagen (cuales rgb existen ej: 0, 0, 0 - 255,255,255 -> 2 colores)\n"
   ]
  },
  {
   "cell_type": "code",
   "execution_count": null,
   "metadata": {},
   "outputs": [],
   "source": [
    "# ¿Como crear una serie de una lista, diccionario o arreglo?\n",
    "import numpy as np\n",
    "mylist = list('abcedfghijklmnopqrstuvwxyz')\n",
    "myarr = np.arange(26)\n",
    "mydict = dict(zip(mylist, myarr))\n",
    "\n",
    "import pandas as pd\n",
    "serie_a = pd.Series(mylist)\n",
    "serie_b = pd.Series(myarr)\n",
    "serie_c = pd.Series(mydict)\n"
   ]
  },
  {
   "cell_type": "code",
   "execution_count": 67,
   "metadata": {},
   "outputs": [],
   "source": [
    "# ¿Como convertir el indice de una serie en una columna de un DataFrame?\n",
    "import numpy as np\n",
    "import pandas as pd\n",
    "\n",
    "mylist = list('abcedfghijklmnopqrstuvwxyz')\n",
    "myarr = np.arange(26)\n",
    "mydict = dict(zip(mylist, myarr))\n",
    "ser = pd.Series(mydict) \n",
    "\n",
    "# Transformar la serie en dataframe y hacer una columna indice\n",
    "\n",
    "df1 = pd.DataFrame(ser)\n",
    "df1.index = ['A']\n"
   ]
  },
  {
   "cell_type": "code",
   "execution_count": null,
   "metadata": {},
   "outputs": [],
   "source": [
    "# ¿Como combinar varias series para hacer un DataFrame?\n",
    "import numpy as np\n",
    "ser1 = pd.Series(list('abcedfghijklmnopqrstuvwxyz'))\n",
    "ser2 = pd.Series(np.arange(26))\n",
    "\n",
    "import pandas as pd\n",
    "df1 = pd.DataFrame(ser1)\n",
    "ser1 = df1[0]\n",
    "ser2 = df1[1]\n"
   ]
  },
  {
   "cell_type": "code",
   "execution_count": null,
   "metadata": {},
   "outputs": [],
   "source": [
    "# ¿Como obtener los items que esten en una serie A y no en una serie B?\n",
    "ser1 = pd.Series([1, 2, 3, 4, 5])\n",
    "ser2 = pd.Series([4, 5, 6, 7, 8])"
   ]
  },
  {
   "cell_type": "code",
   "execution_count": null,
   "metadata": {},
   "outputs": [],
   "source": []
  }
 ],
 "metadata": {
  "kernelspec": {
   "display_name": "Python 3",
   "language": "python",
   "name": "python3"
  },
  "language_info": {
   "codemirror_mode": {
    "name": "ipython",
    "version": 3
   },
   "file_extension": ".py",
   "mimetype": "text/x-python",
   "name": "python",
   "nbconvert_exporter": "python",
   "pygments_lexer": "ipython3",
   "version": "3.7.4"
  }
 },
 "nbformat": 4,
 "nbformat_minor": 2
}
