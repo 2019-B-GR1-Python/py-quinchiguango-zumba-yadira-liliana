{
 "cells": [
  {
   "cell_type": "code",
   "execution_count": 2,
   "metadata": {},
   "outputs": [
    {
     "name": "stdout",
     "output_type": "stream",
     "text": [
      "L1: Buenos dias\n",
      "\n",
      "L1: Buenas tardes\n",
      "\n",
      "L1: Buenas noches\n",
      "\n",
      "L1: Buenas madrugadas\n",
      "L1: \n"
     ]
    }
   ],
   "source": [
    "#Archivos\n",
    "try:\n",
    "    path = \"./frases.txt\"\n",
    "    archivo_abierto = open(path)\n",
    "    linea_uno = archivo_abierto.readline()\n",
    "    print(f\"L1: {linea_uno}\")\n",
    "    linea_dos = archivo_abierto.readline()\n",
    "    print(f\"L1: {linea_dos}\")\n",
    "    linea_tres = archivo_abierto.readline()\n",
    "    print(f\"L1: {linea_tres}\")\n",
    "    linea_cuatro = archivo_abierto.readline()\n",
    "    print(f\"L1: {linea_cuatro}\")\n",
    "    linea_cinco= archivo_abierto.readline()\n",
    "    print(f\"L1: {linea_cinco}\")\n",
    "except Exception as error:\n",
    "    print(\"error\")"
   ]
  },
  {
   "cell_type": "code",
   "execution_count": 3,
   "metadata": {},
   "outputs": [
    {
     "name": "stdout",
     "output_type": "stream",
     "text": [
      "linea1 ['Buenos dias\\n', 'Buenas tardes\\n', 'Buenas noches\\n', 'Buenas madrugadas']\n",
      "Buenos dias\n",
      "\n",
      "Buenas tardes\n",
      "\n",
      "Buenas noches\n",
      "\n",
      "Buenas madrugadas\n"
     ]
    }
   ],
   "source": [
    "try:\n",
    "    path=\"./frases.txt\"\n",
    "    archivo_abierto = open(path)\n",
    "    lineas= archivo_abierto.readlines()\n",
    "    print(f\"linea1 {lineas}\")\n",
    "    for linea in lineas:\n",
    "        print(linea)\n",
    "    archivo_abierto.close\n",
    "except Exception as error:\n",
    "    print(\"error\")"
   ]
  },
  {
   "cell_type": "code",
   "execution_count": 8,
   "metadata": {},
   "outputs": [],
   "source": [
    "try:\n",
    "    path = \"./frases.txt\"\n",
    "    archivo_escritura_abierto = open(path,mode=\"a\") #<-append : aniade lineas\n",
    "    #archivo_escritura_abierto = open(path,mode=\"w\") #<-Write: sobreescribe el texto\n",
    "    # a => Append\n",
    "    # w => write (Sobre escribe)\n",
    "    archivo_escritura_abierto.write(\"Buenas buenas \\n\")\n",
    "    archivo_escritura_abierto.writelines( [\"Medianoche \\n\", \"Mediodia \\n\"])\n",
    "    archivo_escritura_abierto.close()\n",
    "except Exception as error:\n",
    "    print(\"error\")"
   ]
  },
  {
   "cell_type": "code",
   "execution_count": null,
   "metadata": {},
   "outputs": [],
   "source": []
  }
 ],
 "metadata": {
  "kernelspec": {
   "display_name": "Python 3",
   "language": "python",
   "name": "python3"
  },
  "language_info": {
   "codemirror_mode": {
    "name": "ipython",
    "version": 3
   },
   "file_extension": ".py",
   "mimetype": "text/x-python",
   "name": "python",
   "nbconvert_exporter": "python",
   "pygments_lexer": "ipython3",
   "version": "3.7.4"
  }
 },
 "nbformat": 4,
 "nbformat_minor": 2
}
