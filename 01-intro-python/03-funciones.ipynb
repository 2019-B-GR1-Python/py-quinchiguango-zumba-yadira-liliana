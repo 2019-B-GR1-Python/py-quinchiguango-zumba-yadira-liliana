{
 "cells": [
  {
   "cell_type": "code",
   "execution_count": 5,
   "metadata": {},
   "outputs": [
    {
     "name": "stdout",
     "output_type": "stream",
     "text": [
      "Hola Lily\n",
      "Hola Lily\n",
      "<class 'NoneType'>\n"
     ]
    }
   ],
   "source": [
    "#FUNCIONES\n",
    "#1) FUNCIONES VOID\n",
    "#2) FUNCIONES QUE RETORNAN UN VALOR\n",
    "def hola_mundo():\n",
    "    print(\"Hola Lily\")\n",
    "\n",
    "hola_mundo()\n",
    "\n",
    "print(type(hola_mundo())) #<-- la funcion void devuelve un tipo NONE"
   ]
  },
  {
   "cell_type": "code",
   "execution_count": 6,
   "metadata": {},
   "outputs": [
    {
     "name": "stdout",
     "output_type": "stream",
     "text": [
      "La suma es 3\n"
     ]
    }
   ],
   "source": [
    "def sumar_dos_numeros(num_uno, num_dos): # argumentos requeridos\n",
    "    return num_uno + num_dos\n",
    "    \n",
    "suma = sumar_dos_numeros(1,2)\n",
    "print(f\"La suma es {suma}\")"
   ]
  },
  {
   "cell_type": "code",
   "execution_count": 7,
   "metadata": {},
   "outputs": [
    {
     "name": "stdout",
     "output_type": "stream",
     "text": [
      "Universidad: EPN\n",
      "Universidad: ESPE\n"
     ]
    }
   ],
   "source": [
    "def imprimir_universidad(nombre='EPN'): # argumento opcional con un valor por defecto\n",
    "    print(f\"Universidad: {nombre}\")\n",
    "\n",
    "imprimir_universidad()\n",
    "imprimir_universidad('ESPE')"
   ]
  },
  {
   "cell_type": "code",
   "execution_count": 8,
   "metadata": {},
   "outputs": [],
   "source": [
    "def imprimir_carro(color,placa,hp,anio):\n",
    "    print(\"Informacion del carro:\")\n",
    "    print(f\"Color: {color}\")\n",
    "    print(f\"Placa: {placa}\")\n",
    "    print(f\"Caballos de fuerza: {hp}\")\n",
    "    print(f\"Año: {anio}\")"
   ]
  },
  {
   "cell_type": "code",
   "execution_count": 10,
   "metadata": {},
   "outputs": [
    {
     "name": "stdout",
     "output_type": "stream",
     "text": [
      "Informacion del carro:\n",
      "Color: rojo\n",
      "Placa: ABC-123\n",
      "Caballos de fuerza: 2300\n",
      "Año: 2019\n",
      "Informacion del carro:\n",
      "Color: Amazul\n",
      "Placa: def-456\n",
      "Caballos de fuerza: 3500\n",
      "Año: 2005\n",
      "Informacion del carro:\n",
      "Color: cafe\n",
      "Placa: mns-789\n",
      "Caballos de fuerza: 2003\n",
      "Año: 2006\n"
     ]
    }
   ],
   "source": [
    "# Positional Parameters\n",
    "imprimir_carro(\"rojo\",\"ABC-123\",2300,2019) \n",
    "\n",
    "# Named Parameters\n",
    "imprimir_carro(anio=2005,\n",
    "              color=\"Amazul\",\n",
    "              placa=\"def-456\",\n",
    "              hp=3500)\n",
    "\n",
    "\n",
    "imprimir_carro (\"cafe\",\"mns-789\",hp=2003, anio=2006)\n",
    "\n",
    "# REGLAS\n",
    "# 1) Parametros requeridos 1ero, luego los opcionales\n",
    "# 2) Enviar SIEMPRE parametros requeridos\n",
    "# 3) Si ya se envia un parametro nombrado,\n",
    "#    los parametros que falten de enviarse \n",
    "#    van a tener que ser nombrados"
   ]
  },
  {
   "cell_type": "code",
   "execution_count": 11,
   "metadata": {},
   "outputs": [
    {
     "name": "stdout",
     "output_type": "stream",
     "text": [
      "<class 'int'>\n",
      "<class 'tuple'>\n"
     ]
    }
   ],
   "source": [
    "# Parametros infinitos\n",
    "def sumar_numeros(primer_numero, *numeros): \n",
    "    print(type(primer_numero))\n",
    "    print(type(numeros))\n",
    "    \n",
    "sumar_numeros(1,2)"
   ]
  },
  {
   "cell_type": "code",
   "execution_count": 12,
   "metadata": {},
   "outputs": [
    {
     "data": {
      "text/plain": [
       "107"
      ]
     },
     "execution_count": 12,
     "metadata": {},
     "output_type": "execute_result"
    }
   ],
   "source": [
    "# Parametros infinitos\n",
    "def sumar_numeros (primer_numero, *numeros): #parametros infinitos\n",
    "    longitud = len(numeros)\n",
    "    if (longitud == 0):\n",
    "        return primer_numero\n",
    "    else:\n",
    "        suma=primer_numero\n",
    "        for numero in numeros:\n",
    "            suma = suma + numero\n",
    "        return suma\n",
    "            \n",
    "sumar_numeros(1,2,4,100)"
   ]
  },
  {
   "cell_type": "code",
   "execution_count": 13,
   "metadata": {},
   "outputs": [
    {
     "name": "stdout",
     "output_type": "stream",
     "text": [
      "<class 'dict'>\n",
      "{'tiempo_espera': 10, 'numero_parametros': 5}\n"
     ]
    }
   ],
   "source": [
    "def imprimir_configuracion(nombre, #requerido\n",
    "                           valor=10, #opcional\n",
    "                           #*valores_carga, #infinito\n",
    "                           **key_word_arguments #diccionario, usar la palabra kwargs\n",
    "                          ):\n",
    "    print(type(key_word_arguments))\n",
    "    print(key_word_arguments)\n",
    "    \n",
    "#imprimir_configuracion(\"config_1\", 20,30,40,50)\n",
    "#LOS KEYWORD ARGUMENTS SON TODOS LOS PARAMETROS NOMBRADOS NO DEFINIDOS EN LA FUNCION\n",
    "imprimir_configuracion(nombre=\"config_1\", \n",
    "                       valor=20,\n",
    "                       tiempo_espera = 10, \n",
    "                       numero_parametros=5)"
   ]
  },
  {
   "cell_type": "code",
   "execution_count": null,
   "metadata": {},
   "outputs": [],
   "source": []
  }
 ],
 "metadata": {
  "kernelspec": {
   "display_name": "Python 3",
   "language": "python",
   "name": "python3"
  },
  "language_info": {
   "codemirror_mode": {
    "name": "ipython",
    "version": 3
   },
   "file_extension": ".py",
   "mimetype": "text/x-python",
   "name": "python",
   "nbconvert_exporter": "python",
   "pygments_lexer": "ipython3",
   "version": "3.7.4"
  }
 },
 "nbformat": 4,
 "nbformat_minor": 2
}
