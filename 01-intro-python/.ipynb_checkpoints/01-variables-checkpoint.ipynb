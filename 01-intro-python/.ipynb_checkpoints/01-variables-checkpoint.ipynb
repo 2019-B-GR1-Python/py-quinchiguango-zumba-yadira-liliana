{
 "cells": [
  {
   "cell_type": "code",
   "execution_count": 1,
   "metadata": {},
   "outputs": [
    {
     "name": "stdout",
     "output_type": "stream",
     "text": [
      "hola mundo\n"
     ]
    }
   ],
   "source": [
    "print(\"hola mundo\")"
   ]
  },
  {
   "cell_type": "code",
   "execution_count": 4,
   "metadata": {},
   "outputs": [
    {
     "name": "stdout",
     "output_type": "stream",
     "text": [
      "<class 'int'>\n",
      "<class 'float'>\n",
      "<class 'str'>\n",
      "<class 'str'>\n",
      "<class 'bool'>\n",
      "<class 'bool'>\n",
      "<class 'NoneType'>\n"
     ]
    }
   ],
   "source": [
    "## Variables Primitivas\n",
    "entero = 3 \n",
    "decimal = 1.1\n",
    "nombre = \"Yadira\"\n",
    "segundo_nombre = \"Liliana\"\n",
    "casado = True\n",
    "profesor = False\n",
    "hijos = None\n",
    "print(type(entero)) # int\n",
    "print(type(decimal)) # float\n",
    "print(type(nombre)) # str\n",
    "print(type(segundo_nombre)) # str\n",
    "print(type(casado)) # boolean\n",
    "print(type(profesor)) # boolean\n",
    "print(type(hijos)) # noneType"
   ]
  },
  {
   "cell_type": "code",
   "execution_count": 5,
   "metadata": {},
   "outputs": [
    {
     "name": "stdout",
     "output_type": "stream",
     "text": [
      "3\n",
      "Yadira\n"
     ]
    }
   ],
   "source": [
    "print(entero)\n",
    "entero = decimal\n",
    "entero = nombre\n",
    "print(entero)"
   ]
  },
  {
   "cell_type": "code",
   "execution_count": 8,
   "metadata": {},
   "outputs": [
    {
     "name": "stdout",
     "output_type": "stream",
     "text": [
      "<class 'tuple'>\n",
      "<class 'list'>\n",
      "<class 'dict'>\n",
      "Falsy\n",
      "Truty\n",
      "Falsy\n",
      "Truty\n",
      "Truty\n",
      "Falsy\n",
      "Truty\n",
      "Falsy\n",
      "Falsy\n",
      "Truty\n",
      "Falsy\n",
      "Truty\n",
      "Falsy\n",
      "Truty\n"
     ]
    }
   ],
   "source": [
    "#Condicion(Boolean)\n",
    "#Truty\n",
    "#Falsy\n",
    "\n",
    "tuplas =()\n",
    "listas=[]\n",
    "diccionario={}\n",
    "print(type(tuplas))  #tuple\n",
    "print(type(listas))  #list\n",
    "print(type(diccionario))  #dict\n",
    "\n",
    "if(\"\"):\n",
    "    print(\"Truty\")  \n",
    "else:\n",
    "    print(\"Falsy\")  \n",
    "    \n",
    "if(\"hola\"):\n",
    "    print(\"Truty\")  \n",
    "else:\n",
    "    print(\"Falsy\")\n",
    "\n",
    "if(0):\n",
    "    print(\"Truty\")\n",
    "else:\n",
    "    print(\"Falsy\")  \n",
    "\n",
    "if(-1):\n",
    "    print(\"Truty\")  \n",
    "else:\n",
    "    print(\"Falsy\")\n",
    "\n",
    "if(1):\n",
    "    print(\"Truty\")  \n",
    "else:\n",
    "    print(\"Falsy\")\n",
    "\n",
    "if(0.00):\n",
    "    print(\"Truty\")\n",
    "else:\n",
    "    print(\"Falsy\")  \n",
    "    \n",
    "if(0.01):\n",
    "    print(\"Truty\")  \n",
    "else:\n",
    "    print(\"Falsy\")  \n",
    "    \n",
    "if(None):\n",
    "    print(\"Truty\")  \n",
    "else:\n",
    "    print(\"Falsy\")  \n",
    "    \n",
    "if(()):\n",
    "    print(\"Truty\")  \n",
    "else:\n",
    "    print(\"Falsy\")  \n",
    "\n",
    "if((1,2)):\n",
    "    print(\"Truty\")  \n",
    "else:\n",
    "    print(\"Falsy\")      \n",
    "    \n",
    "if([]):\n",
    "    print(\"Truty\")  \n",
    "else:\n",
    "    print(\"Falsy\")  \n",
    "    \n",
    "if([\"a\",\"b\"]):\n",
    "    print(\"Truty\")  \n",
    "else:\n",
    "    print(\"Falsy\") \n",
    "    \n",
    "if({}):\n",
    "    print(\"Truty\")  \n",
    "else:\n",
    "    print(\"Falsy\")  \n",
    "    \n",
    "if({nombre:\"Yadira\"}):\n",
    "    print(\"Truty\")  \n",
    "else:\n",
    "    print(\"Falsy\")\n"
   ]
  },
  {
   "cell_type": "code",
   "execution_count": 10,
   "metadata": {},
   "outputs": [
    {
     "name": "stdout",
     "output_type": "stream",
     "text": [
      "[3, 4, 5]\n",
      "[3, 4, 5, 6, 7, 8, 9, 10]\n",
      "[1, 2, 3, 4, 5, 6, 7]\n",
      "10\n",
      "[3, 4, 5, 6, 7, 8, 9]\n",
      "[3, 4, 5, 6, 7, 8, 9]\n",
      "[2, 3, 4, 5, 6, 7, 8, 9, 10]\n",
      "[1, 2, 3, 4, 5, 6, 7, 8]\n",
      "[1, 2, 3, 4, 5, 6, 7, 8, 9, 10]\n"
     ]
    }
   ],
   "source": [
    "# Arreglos\n",
    "arreglo=[1, 2, 3, 4, 5, 6, 7, 8, 9, 10]\n",
    "print(arreglo[2:5]) # Cerrado a la izquierda y abierto a la derecha. Filtrar ([2, 5[)\n",
    "print(arreglo[2:]) # Seleccionar un intervalo desde un indice hasta el final\n",
    "print(arreglo[:7])\n",
    "print(arreglo[-1])  # El ultimo indice\n",
    "print(arreglo[2:-1]) \n",
    "print(arreglo[-8:-1])\n",
    "print(arreglo[-9:])\n",
    "print(arreglo[:-2])\n",
    "print(arreglo[:])"
   ]
  },
  {
   "cell_type": "code",
   "execution_count": 11,
   "metadata": {},
   "outputs": [
    {
     "name": "stdout",
     "output_type": "stream",
     "text": [
      "<class 'bool'>\n",
      "True\n"
     ]
    }
   ],
   "source": [
    "#Buscar un elemento dentro de un arreglo\n",
    "print(type(7 in arreglo)) #bool\n",
    "print(7 in arreglo)"
   ]
  },
  {
   "cell_type": "code",
   "execution_count": 12,
   "metadata": {},
   "outputs": [
    {
     "data": {
      "text/plain": [
       "10"
      ]
     },
     "execution_count": 12,
     "metadata": {},
     "output_type": "execute_result"
    }
   ],
   "source": [
    "# Longitud de un arreglo\n",
    "len(arreglo)"
   ]
  },
  {
   "cell_type": "code",
   "execution_count": 13,
   "metadata": {},
   "outputs": [
    {
     "name": "stdout",
     "output_type": "stream",
     "text": [
      "[1, 2, 3, 4, 5, 6, 7, 8, 9, 10, 11]\n"
     ]
    }
   ],
   "source": [
    "# Agregar elementos al final del arreglo\n",
    "arreglo.append(11)\n",
    "print(arreglo)"
   ]
  },
  {
   "cell_type": "code",
   "execution_count": 14,
   "metadata": {},
   "outputs": [
    {
     "name": "stdout",
     "output_type": "stream",
     "text": [
      "[1, 2, 3, 4, 5, 6, 7, 8, 9, 10]\n"
     ]
    }
   ],
   "source": [
    "# Eliminar elementos\n",
    "arreglo.pop() # Elimina el 11\n",
    "print(arreglo)"
   ]
  },
  {
   "cell_type": "code",
   "execution_count": 15,
   "metadata": {},
   "outputs": [
    {
     "data": {
      "text/plain": [
       "[1, 1.1, 2, 3, 4, 5, 6, 7, 8, 9, 10]"
      ]
     },
     "execution_count": 15,
     "metadata": {},
     "output_type": "execute_result"
    }
   ],
   "source": [
    "# Añadir en un indice\n",
    "arreglo.insert(1,1.1)\n",
    "arreglo"
   ]
  },
  {
   "cell_type": "code",
   "execution_count": 16,
   "metadata": {},
   "outputs": [
    {
     "name": "stdout",
     "output_type": "stream",
     "text": [
      "For\n",
      "1\n",
      "1.1\n",
      "2\n",
      "3\n",
      "4\n",
      "5\n",
      "6\n",
      "7\n",
      "8\n",
      "9\n",
      "10\n",
      "While\n",
      "0\n",
      "1\n",
      "2\n",
      "3\n",
      "4\n",
      "5\n",
      "6\n",
      "7\n",
      "8\n",
      "9\n"
     ]
    }
   ],
   "source": [
    "# Iteradores\n",
    "print(\"For\")\n",
    "for numero in arreglo:\n",
    "    print(numero)\n",
    "\n",
    "print(\"While\")\n",
    "contador=0\n",
    "while(contador < 10):\n",
    "    print(contador)\n",
    "    contador+= 1"
   ]
  },
  {
   "cell_type": "code",
   "execution_count": 17,
   "metadata": {},
   "outputs": [
    {
     "name": "stdout",
     "output_type": "stream",
     "text": [
      "(1, 2, 3, 4, 5)\n"
     ]
    }
   ],
   "source": [
    "# Tupla\n",
    "# No se puede reasignar tuplas, eliminar elementos ni filtrar, solo se permite count e index\n",
    "# Semejantes a las constantes\n",
    "tupla_numeros=(1,2,3,4,5)\n",
    "print(tupla_numeros)"
   ]
  },
  {
   "cell_type": "code",
   "execution_count": 18,
   "metadata": {},
   "outputs": [
    {
     "data": {
      "text/plain": [
       "(1, 2, 3)"
      ]
     },
     "execution_count": 18,
     "metadata": {},
     "output_type": "execute_result"
    }
   ],
   "source": [
    "tupla_numeros[0:3]"
   ]
  },
  {
   "cell_type": "code",
   "execution_count": 19,
   "metadata": {},
   "outputs": [
    {
     "data": {
      "text/plain": [
       "5"
      ]
     },
     "execution_count": 19,
     "metadata": {},
     "output_type": "execute_result"
    }
   ],
   "source": [
    "len(tupla_numeros)"
   ]
  },
  {
   "cell_type": "code",
   "execution_count": 20,
   "metadata": {},
   "outputs": [
    {
     "data": {
      "text/plain": [
       "True"
      ]
     },
     "execution_count": 20,
     "metadata": {},
     "output_type": "execute_result"
    }
   ],
   "source": [
    "3 in tupla_numeros"
   ]
  },
  {
   "cell_type": "code",
   "execution_count": 27,
   "metadata": {},
   "outputs": [
    {
     "data": {
      "text/plain": [
       "{'nombre': 'Yadira',\n",
       " 'apellido': 'Quinchiguango',\n",
       " 'edad': 28,\n",
       " 'sueldo': 1.1,\n",
       " 'hijos': None,\n",
       " 'casado': True,\n",
       " 'mascotas': [{'Yadira': ' Duque'}]}"
      ]
     },
     "execution_count": 27,
     "metadata": {},
     "output_type": "execute_result"
    }
   ],
   "source": [
    "# Diccionarios, formato json. Entre comillas dobles o simples\n",
    "yadira = {\n",
    "    \"nombre\" : \"Yadira\",\n",
    "    \"apellido\" : 'Quinchiguango',\n",
    "    'edad' : 28,\n",
    "    'sueldo' : 1.1,\n",
    "    \"hijos\" : None,\n",
    "    'casado' : True,\n",
    "    \"mascotas\" : [{ nombre : \" Duque\"}]\n",
    "    \n",
    "}\n",
    "yadira"
   ]
  },
  {
   "cell_type": "code",
   "execution_count": 28,
   "metadata": {},
   "outputs": [
    {
     "data": {
      "text/plain": [
       "'Quinchiguango'"
      ]
     },
     "execution_count": 28,
     "metadata": {},
     "output_type": "execute_result"
    }
   ],
   "source": [
    "yadira[\"apellido\"]"
   ]
  },
  {
   "cell_type": "code",
   "execution_count": 29,
   "metadata": {},
   "outputs": [
    {
     "name": "stdout",
     "output_type": "stream",
     "text": [
      "Yadira\n",
      "Liliana\n"
     ]
    }
   ],
   "source": [
    "# Acceder al diccionario\n",
    "print(yadira[\"nombre\"])\n",
    "yadira[\"nombre\"] = \"Liliana\"\n",
    "print(yadira[\"nombre\"])"
   ]
  },
  {
   "cell_type": "code",
   "execution_count": 31,
   "metadata": {},
   "outputs": [
    {
     "data": {
      "text/plain": [
       "' Duque'"
      ]
     },
     "execution_count": 31,
     "metadata": {},
     "output_type": "execute_result"
    }
   ],
   "source": [
    "yadira[\"mascotas\"][0][\"Yadira\"]"
   ]
  },
  {
   "cell_type": "code",
   "execution_count": 32,
   "metadata": {},
   "outputs": [
    {
     "data": {
      "text/plain": [
       "dict_keys(['nombre', 'apellido', 'edad', 'sueldo', 'hijos', 'casado', 'mascotas'])"
      ]
     },
     "execution_count": 32,
     "metadata": {},
     "output_type": "execute_result"
    }
   ],
   "source": [
    "yadira.keys()"
   ]
  },
  {
   "cell_type": "code",
   "execution_count": 33,
   "metadata": {},
   "outputs": [
    {
     "data": {
      "text/plain": [
       "dict_values(['Liliana', 'Quinchiguango', 28, 1.1, None, True, [{'Yadira': ' Duque'}]])"
      ]
     },
     "execution_count": 33,
     "metadata": {},
     "output_type": "execute_result"
    }
   ],
   "source": [
    "yadira.values()"
   ]
  },
  {
   "cell_type": "code",
   "execution_count": 34,
   "metadata": {},
   "outputs": [
    {
     "data": {
      "text/plain": [
       "True"
      ]
     },
     "execution_count": 34,
     "metadata": {},
     "output_type": "execute_result"
    }
   ],
   "source": [
    "\"apellido\" in yadira.keys()"
   ]
  },
  {
   "cell_type": "code",
   "execution_count": 35,
   "metadata": {},
   "outputs": [
    {
     "data": {
      "text/plain": [
       "False"
      ]
     },
     "execution_count": 35,
     "metadata": {},
     "output_type": "execute_result"
    }
   ],
   "source": [
    "\"Yadira\" in yadira.values()"
   ]
  },
  {
   "cell_type": "code",
   "execution_count": 37,
   "metadata": {},
   "outputs": [
    {
     "data": {
      "text/plain": [
       "True"
      ]
     },
     "execution_count": 37,
     "metadata": {},
     "output_type": "execute_result"
    }
   ],
   "source": [
    "1==1 or 2==3 "
   ]
  },
  {
   "cell_type": "code",
   "execution_count": 38,
   "metadata": {},
   "outputs": [
    {
     "data": {
      "text/plain": [
       "False"
      ]
     },
     "execution_count": 38,
     "metadata": {},
     "output_type": "execute_result"
    }
   ],
   "source": [
    "1==1 and 2==3 "
   ]
  },
  {
   "cell_type": "code",
   "execution_count": null,
   "metadata": {},
   "outputs": [],
   "source": []
  }
 ],
 "metadata": {
  "kernelspec": {
   "display_name": "Python 3",
   "language": "python",
   "name": "python3"
  },
  "language_info": {
   "codemirror_mode": {
    "name": "ipython",
    "version": 3
   },
   "file_extension": ".py",
   "mimetype": "text/x-python",
   "name": "python",
   "nbconvert_exporter": "python",
   "pygments_lexer": "ipython3",
   "version": "3.7.4"
  }
 },
 "nbformat": 4,
 "nbformat_minor": 2
}
