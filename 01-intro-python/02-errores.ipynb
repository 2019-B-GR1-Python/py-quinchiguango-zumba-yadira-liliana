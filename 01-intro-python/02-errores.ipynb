{
 "cells": [
  {
   "cell_type": "code",
   "execution_count": 1,
   "metadata": {},
   "outputs": [
    {
     "name": "stdout",
     "output_type": "stream",
     "text": [
      "Error\n"
     ]
    }
   ],
   "source": [
    "# Errores\n",
    "# 1) Error de Sintaxis: skjefsfvsi sefnsif ->SyntaxError: invalid syntax\n",
    "# 2) Division para cero: 0/0\n",
    "# 3) Name error: a+b\n",
    "# 4) Propoiedad inexistente: a={'b':'b'}\n",
    "# Key error: a['c'] \n",
    "\n",
    "#try catch\n",
    "try:\n",
    "    0/0\n",
    "except Exception as error:\n",
    "    print(\"Error\")"
   ]
  },
  {
   "cell_type": "code",
   "execution_count": 4,
   "metadata": {},
   "outputs": [
    {
     "name": "stdout",
     "output_type": "stream",
     "text": [
      "NameError\n"
     ]
    }
   ],
   "source": [
    "try:\n",
    "    a+b\n",
    "    0/0\n",
    "except NameError as nameError:    \n",
    "    print('NameError')\n",
    "except (ZeroDivisionError, KeyError) as errorComun:    \n",
    "    print('Error agrupado comun')\n",
    "except Exception as error:\n",
    "    print ('error')"
   ]
  },
  {
   "cell_type": "code",
   "execution_count": 6,
   "metadata": {},
   "outputs": [
    {
     "name": "stdout",
     "output_type": "stream",
     "text": [
      "Error agrupado comun\n"
     ]
    }
   ],
   "source": [
    "try:\n",
    "    #a+b\n",
    "    0/0\n",
    "except NameError as nameError:    \n",
    "    print('NameError')\n",
    "except (ZeroDivisionError, KeyError) as errorComun:    \n",
    "    print('Error agrupado comun')\n",
    "except Exception as error:\n",
    "    print ('error')"
   ]
  },
  {
   "cell_type": "code",
   "execution_count": null,
   "metadata": {},
   "outputs": [],
   "source": []
  }
 ],
 "metadata": {
  "kernelspec": {
   "display_name": "Python 3",
   "language": "python",
   "name": "python3"
  },
  "language_info": {
   "codemirror_mode": {
    "name": "ipython",
    "version": 3
   },
   "file_extension": ".py",
   "mimetype": "text/x-python",
   "name": "python",
   "nbconvert_exporter": "python",
   "pygments_lexer": "ipython3",
   "version": "3.7.4"
  }
 },
 "nbformat": 4,
 "nbformat_minor": 2
}
